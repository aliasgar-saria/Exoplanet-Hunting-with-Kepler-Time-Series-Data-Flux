{
 "cells": [
  {
   "cell_type": "code",
   "execution_count": 75,
   "metadata": {
    "ExecuteTime": {
     "end_time": "2023-06-14T18:23:56.792256Z",
     "start_time": "2023-06-14T18:23:56.777416Z"
    }
   },
   "outputs": [],
   "source": [
    "import numpy as np \n",
    "import pandas as pd\n",
    "import seaborn as sns \n",
    "import matplotlib.pyplot as plt \n",
    "plt.style.use('fivethirtyeight')\n",
    "\n",
    "import warnings \n",
    "warnings.filterwarnings ('ignore')"
   ]
  },
  {
   "cell_type": "code",
   "execution_count": 76,
   "metadata": {
    "ExecuteTime": {
     "end_time": "2023-06-14T18:23:59.601654Z",
     "start_time": "2023-06-14T18:23:56.796065Z"
    }
   },
   "outputs": [],
   "source": [
    "train_df =  pd.read_csv(\"Dataset/exoTrain.csv\")\n",
    "train_df"
   ]
  },
  {
   "cell_type": "code",
   "execution_count": 77,
   "metadata": {
    "ExecuteTime": {
     "end_time": "2023-06-14T18:23:59.605543Z",
     "start_time": "2023-06-14T18:23:59.602865Z"
    }
   },
   "outputs": [],
   "source": [
    "train_df.shape"
   ]
  },
  {
   "cell_type": "markdown",
   "metadata": {},
   "source": [
    "Checking Null Values"
   ]
  },
  {
   "cell_type": "code",
   "execution_count": 78,
   "metadata": {
    "ExecuteTime": {
     "end_time": "2023-06-14T18:23:59.627240Z",
     "start_time": "2023-06-14T18:23:59.607485Z"
    }
   },
   "outputs": [],
   "source": [
    "train_df[train_df.isnull().any(axis = 1)]"
   ]
  },
  {
   "cell_type": "code",
   "execution_count": 79,
   "metadata": {
    "ExecuteTime": {
     "end_time": "2023-06-14T18:24:15.951917Z",
     "start_time": "2023-06-14T18:23:59.628223Z"
    }
   },
   "outputs": [],
   "source": [
    "sns.heatmap(train_df.isnull())"
   ]
  },
  {
   "cell_type": "code",
   "execution_count": 80,
   "metadata": {
    "ExecuteTime": {
     "end_time": "2023-06-14T18:24:15.961845Z",
     "start_time": "2023-06-14T18:24:15.954124Z"
    }
   },
   "outputs": [],
   "source": [
    "train_df.LABEL.unique()"
   ]
  },
  {
   "cell_type": "markdown",
   "metadata": {},
   "source": [
    "The horizontal dashes in this plot would indicate the presence of missing values in respective column.\n",
    "As there aren't any of such dashes seen we can conclude that there are no missing values in this data."
   ]
  },
  {
   "cell_type": "code",
   "execution_count": 81,
   "metadata": {
    "ExecuteTime": {
     "end_time": "2023-06-14T18:24:15.968242Z",
     "start_time": "2023-06-14T18:24:15.964062Z"
    }
   },
   "outputs": [],
   "source": [
    "train_df['LABEL'].unique()"
   ]
  },
  {
   "cell_type": "code",
   "execution_count": 82,
   "metadata": {
    "ExecuteTime": {
     "end_time": "2023-06-14T18:24:15.999310Z",
     "start_time": "2023-06-14T18:24:15.971014Z"
    }
   },
   "outputs": [],
   "source": [
    "list(train_df[train_df['LABEL'] ==2].index)"
   ]
  },
  {
   "cell_type": "markdown",
   "metadata": {},
   "source": [
    "There are total of two classes: one is for stars with exoplanets and the other for stars without exoplanets. \n",
    "Very few index for label 2 indicates that this class must belong to stars with exoplanets\n",
    "We can also visualise this using countplot"
   ]
  },
  {
   "cell_type": "code",
   "execution_count": 83,
   "metadata": {
    "ExecuteTime": {
     "end_time": "2023-06-14T18:24:16.076784Z",
     "start_time": "2023-06-14T18:24:16.000534Z"
    }
   },
   "outputs": [],
   "source": [
    "plt.figure(figsize = (3,5))\n",
    "ax = sns.countplot(x = 'LABEL', data=train_df)\n",
    "ax.bar_label(ax.containers[0])"
   ]
  },
  {
   "cell_type": "markdown",
   "metadata": {},
   "source": [
    "There is a huge imbalance in the data which isn't good for KNN (explained later in this notebook).\n",
    "We will need to balance it using some resampling technique and we will use RandomOverSampler for this data.\n",
    "We'll do that after building the model with imbalanced dataset to compare the results!"
   ]
  },
  {
   "cell_type": "markdown",
   "metadata": {},
   "source": [
    "Replacing the labels"
   ]
  },
  {
   "cell_type": "markdown",
   "metadata": {},
   "source": [
    "\n",
    "For ease of our model its always better to feed in the data in terms of 0 and 1\n",
    "\n",
    "• Stars with Exoplanets: 2 - 1\n",
    "\n",
    "• Stars without Exoplanets: 1 - 0"
   ]
  },
  {
   "cell_type": "code",
   "execution_count": 84,
   "metadata": {
    "ExecuteTime": {
     "end_time": "2023-06-14T18:24:16.134519Z",
     "start_time": "2023-06-14T18:24:16.085583Z"
    }
   },
   "outputs": [],
   "source": [
    "# Replacing labels\n",
    "train_df = train_df.replace({\"LABEL\" : {2:1,1:0}})"
   ]
  },
  {
   "cell_type": "code",
   "execution_count": 85,
   "metadata": {
    "ExecuteTime": {
     "end_time": "2023-06-14T18:24:16.139079Z",
     "start_time": "2023-06-14T18:24:16.135743Z"
    }
   },
   "outputs": [],
   "source": [
    "train_df.LABEL.unique()"
   ]
  },
  {
   "cell_type": "code",
   "execution_count": 86,
   "metadata": {
    "ExecuteTime": {
     "end_time": "2023-06-14T18:24:16.205811Z",
     "start_time": "2023-06-14T18:24:16.140336Z"
    }
   },
   "outputs": [],
   "source": [
    "plot_df = train_df.drop(['LABEL'], axis = 1)\n",
    "plot_df "
   ]
  },
  {
   "cell_type": "code",
   "execution_count": 87,
   "metadata": {
    "ExecuteTime": {
     "end_time": "2023-06-14T18:24:16.217970Z",
     "start_time": "2023-06-14T18:24:16.207040Z"
    },
    "scrolled": true
   },
   "outputs": [],
   "source": [
    "list(range(1,3198))"
   ]
  },
  {
   "cell_type": "code",
   "execution_count": 88,
   "metadata": {
    "ExecuteTime": {
     "end_time": "2023-06-14T18:24:16.353119Z",
     "start_time": "2023-06-14T18:24:16.219056Z"
    }
   },
   "outputs": [],
   "source": [
    "# Plot Random Star from Data - here 3\n",
    "time = range(1,3198)\n",
    "flux_val = plot_df.iloc[3,:].values\n",
    "plt.figure(figsize = (15,5))\n",
    "plt.plot(time, flux_val, linewidth = 1.17)\n"
   ]
  },
  {
   "cell_type": "code",
   "execution_count": 89,
   "metadata": {
    "ExecuteTime": {
     "end_time": "2023-06-14T18:24:16.473223Z",
     "start_time": "2023-06-14T18:24:16.354368Z"
    }
   },
   "outputs": [],
   "source": [
    "# Plot Random Star from Data - here 1100\n",
    "time = range(1,3198)\n",
    "flux_val = plot_df.iloc[1100,:].values\n",
    "plt.figure(figsize = (15,5))\n",
    "plt.plot(time, flux_val, linewidth = 1.17)\n"
   ]
  },
  {
   "cell_type": "code",
   "execution_count": 90,
   "metadata": {
    "ExecuteTime": {
     "end_time": "2023-06-14T18:24:16.739563Z",
     "start_time": "2023-06-14T18:24:16.474650Z"
    }
   },
   "outputs": [],
   "source": [
    "plt.figure(figsize = (20,10))\n",
    "for i in range(1,4):\n",
    "    plt.subplot(1,4, i)\n",
    "    sns.boxplot(data = train_df, x = 'LABEL', y = 'FLUX.' + str(i))"
   ]
  },
  {
   "cell_type": "markdown",
   "metadata": {},
   "source": [
    "We can see that the flux values more than 0.25x 10° are extreme outliers.\n",
    "\n",
    "We can either drop it or replace its value with upper bridge value. For this usecase, we will simply drop it.\n",
    "\n",
    "However you can try to compute on your own the upper bridge value using the formula given below:-\n",
    "\n",
    "UB = 03 + 3 x 1QR:\n",
    "UB - upper bridge, Q3 - 75th percentile, IQR - Interquartile range"
   ]
  },
  {
   "cell_type": "code",
   "execution_count": 91,
   "metadata": {
    "ExecuteTime": {
     "end_time": "2023-06-14T18:24:16.808312Z",
     "start_time": "2023-06-14T18:24:16.740887Z"
    }
   },
   "outputs": [],
   "source": [
    "train_df.drop(train_df[train_df['FLUX.2'] > 0.25e6].index, axis = 0, inplace = True)"
   ]
  },
  {
   "cell_type": "code",
   "execution_count": 92,
   "metadata": {
    "ExecuteTime": {
     "end_time": "2023-06-14T18:24:16.904517Z",
     "start_time": "2023-06-14T18:24:16.809629Z"
    }
   },
   "outputs": [],
   "source": [
    "sns.boxplot(data = train_df, x = 'LABEL', y = 'FLUX.' + str(np.random.randint(1000)))"
   ]
  },
  {
   "cell_type": "markdown",
   "metadata": {},
   "source": [
    "# Working with KNN Classification"
   ]
  },
  {
   "cell_type": "code",
   "execution_count": 93,
   "metadata": {
    "ExecuteTime": {
     "end_time": "2023-06-14T18:24:16.907696Z",
     "start_time": "2023-06-14T18:24:16.905943Z"
    }
   },
   "outputs": [],
   "source": [
    "# Extracting independent (X), dependent (Y)"
   ]
  },
  {
   "cell_type": "code",
   "execution_count": 94,
   "metadata": {
    "ExecuteTime": {
     "end_time": "2023-06-14T18:24:16.933619Z",
     "start_time": "2023-06-14T18:24:16.908849Z"
    }
   },
   "outputs": [],
   "source": [
    "x = train_df.drop(['LABEL'], axis = 1)\n",
    "y = train_df.LABEL"
   ]
  },
  {
   "cell_type": "code",
   "execution_count": 95,
   "metadata": {
    "ExecuteTime": {
     "end_time": "2023-06-14T18:24:17.024002Z",
     "start_time": "2023-06-14T18:24:16.935064Z"
    }
   },
   "outputs": [],
   "source": [
    "# Splitting data in Train,Test\n",
    "from sklearn.model_selection import train_test_split\n",
    "\n",
    "x_train,x_test,y_train,y_test = train_test_split(x,y,test_size = 0.3, random_state = 84)"
   ]
  },
  {
   "cell_type": "code",
   "execution_count": 96,
   "metadata": {
    "ExecuteTime": {
     "end_time": "2023-06-14T18:24:17.222818Z",
     "start_time": "2023-06-14T18:24:17.025451Z"
    }
   },
   "outputs": [],
   "source": [
    "from sklearn.preprocessing import StandardScaler\n",
    "\n",
    "sc = StandardScaler()\n",
    "x_train_sc = sc.fit_transform(x_train)\n",
    "x_test_sc = sc.fit_transform(x_test)\n"
   ]
  },
  {
   "cell_type": "code",
   "execution_count": 97,
   "metadata": {
    "ExecuteTime": {
     "end_time": "2023-06-14T18:24:17.240516Z",
     "start_time": "2023-06-14T18:24:17.223921Z"
    }
   },
   "outputs": [],
   "source": [
    "np.min(x_train_sc), np.max(x_train_sc)"
   ]
  },
  {
   "cell_type": "code",
   "execution_count": 98,
   "metadata": {
    "ExecuteTime": {
     "end_time": "2023-06-14T18:24:17.871898Z",
     "start_time": "2023-06-14T18:24:17.241455Z"
    }
   },
   "outputs": [],
   "source": [
    "from sklearn.neighbors import KNeighborsClassifier as KNC\n",
    "\n",
    "# K = 5\n",
    "knn_classifier = KNC(n_neighbors = 5, metric = 'minkowski', p = 2)\n",
    "\n",
    "# Fitting Model\n",
    "knn_classifier.fit(x_train_sc, y_train)\n",
    "\n",
    "\n",
    "# Predict\n",
    "y_pred = knn_classifier.predict(x_test_sc)\n"
   ]
  },
  {
   "cell_type": "code",
   "execution_count": null,
   "metadata": {
    "ExecuteTime": {
     "end_time": "2023-06-14T18:23:11.288998Z",
     "start_time": "2023-06-14T18:23:04.704505Z"
    }
   },
   "outputs": [],
   "source": []
  },
  {
   "cell_type": "code",
   "execution_count": 99,
   "metadata": {
    "ExecuteTime": {
     "end_time": "2023-06-14T18:24:18.670945Z",
     "start_time": "2023-06-14T18:24:17.874267Z"
    }
   },
   "outputs": [],
   "source": [
    "from sklearn.metrics import confusion_matrix, accuracy_score, classification_report, roc_curve, auc\n",
    "\n",
    "print(\"Validation accuracy of KNN:- \", accuracy_score (y_test, y_pred))\n",
    "print ()\n",
    "print(\"Classification report:- \\n\", classification_report(y_test, y_pred))\n",
    "\n",
    "#Confusion matrix \n",
    "plt.figure(figsize=(15, 11))\n",
    "plt.subplots_adjust(wspace = 0.3)\n",
    "plt.suptitle(\"KNN Performance before handling the imbalance in the data\", color = 'r', weight = 'bold')\n",
    "plt.subplot (221)\n",
    "sns.heatmap(confusion_matrix(y_test,y_pred), annot=True, cmap=\"Set2\", fmt = \"d\", linewidths=3, cbar = False, \n",
    "            xticklabels=['nexo','exo'], yticklabels=['nexo', 'exo'], square = True)\n",
    "plt.xlabel(\"True Labels\", fontsize = 15, weight = 'bold', color = 'tab:pink')\n",
    "plt.ylabel(\"Predicited Labels\", fontsize = 15, weight = 'bold', color = 'tab:pink')\n",
    "plt.title(\"CONFUSION MATRIX\", fontsize=20, color = 'm')\n",
    "\n",
    "#ROC curve and Area under the curve plotting\n",
    "predicting_probabilites = knn_classifier.predict_proba(x_test_sc)[:,1]\n",
    "fpr, tpr, thresholds = roc_curve (y_test, predicting_probabilites)\n",
    "plt.subplot(222)\n",
    "plt.plot(fpr, tpr, label = (\"AUC :\", auc(fpr, tpr)),color = \"g\")\n",
    "plt.plot([1,0], [1,0], \"k--\")\n",
    "plt.xlabel('False Positive Rate')\n",
    "plt.ylabel('True Positive Rate')\n",
    "plt.title(\"ROC - CURVE & AREA UNDER CURVE\", fontsize=20, color = 'm')\n",
    "plt.show"
   ]
  },
  {
   "cell_type": "markdown",
   "metadata": {},
   "source": [
    "Handling Imbalance in the Data"
   ]
  },
  {
   "cell_type": "code",
   "execution_count": 100,
   "metadata": {
    "ExecuteTime": {
     "end_time": "2023-06-14T18:24:18.683831Z",
     "start_time": "2023-06-14T18:24:18.672637Z"
    }
   },
   "outputs": [],
   "source": [
    "x,y"
   ]
  },
  {
   "cell_type": "code",
   "execution_count": 101,
   "metadata": {
    "ExecuteTime": {
     "end_time": "2023-06-14T18:24:19.487906Z",
     "start_time": "2023-06-14T18:24:18.685621Z"
    }
   },
   "outputs": [],
   "source": [
    "#pip install imblearn\n",
    "from imblearn.over_sampling import RandomOverSampler\n",
    "\n",
    "ros = RandomOverSampler()\n",
    "x_ros, y_ros  = ros.fit_resample(x,y)"
   ]
  },
  {
   "cell_type": "code",
   "execution_count": 102,
   "metadata": {
    "ExecuteTime": {
     "end_time": "2023-06-14T18:24:19.582460Z",
     "start_time": "2023-06-14T18:24:19.492686Z"
    }
   },
   "outputs": [],
   "source": [
    "y_ros.value_counts().plot(kind = 'bar')"
   ]
  },
  {
   "cell_type": "code",
   "execution_count": 103,
   "metadata": {
    "ExecuteTime": {
     "end_time": "2023-06-14T18:24:19.588216Z",
     "start_time": "2023-06-14T18:24:19.583734Z"
    }
   },
   "outputs": [],
   "source": [
    "from collections import Counter\n",
    "print(f\"Before ROS:- {Counter(y)} \\n After ROS:- {Counter(y_ros)}\")"
   ]
  },
  {
   "cell_type": "code",
   "execution_count": 104,
   "metadata": {
    "ExecuteTime": {
     "end_time": "2023-06-14T18:24:20.085568Z",
     "start_time": "2023-06-14T18:24:19.589370Z"
    }
   },
   "outputs": [],
   "source": [
    "# Splitting data in Train,Test - Balanced\n",
    "from sklearn.model_selection import train_test_split\n",
    "\n",
    "x_train,x_test,y_train,y_test = train_test_split(x_ros,y_ros,test_size = 0.3, random_state = 84)"
   ]
  },
  {
   "cell_type": "code",
   "execution_count": 105,
   "metadata": {
    "ExecuteTime": {
     "end_time": "2023-06-14T18:24:20.709493Z",
     "start_time": "2023-06-14T18:24:20.086696Z"
    }
   },
   "outputs": [],
   "source": [
    "from sklearn.preprocessing import StandardScaler\n",
    "\n",
    "sc = StandardScaler()\n",
    "x_train_sc = sc.fit_transform(x_train)\n",
    "x_test_sc = sc.fit_transform(x_test)\n"
   ]
  },
  {
   "cell_type": "code",
   "execution_count": 106,
   "metadata": {
    "ExecuteTime": {
     "end_time": "2023-06-14T18:24:20.733027Z",
     "start_time": "2023-06-14T18:24:20.710648Z"
    }
   },
   "outputs": [],
   "source": [
    "np.min(x_train_sc), np.max(x_train_sc)"
   ]
  },
  {
   "cell_type": "code",
   "execution_count": 107,
   "metadata": {
    "ExecuteTime": {
     "end_time": "2023-06-14T18:24:22.864643Z",
     "start_time": "2023-06-14T18:24:20.734070Z"
    }
   },
   "outputs": [],
   "source": [
    "from sklearn.neighbors import KNeighborsClassifier as KNC\n",
    "\n",
    "# K = 5\n",
    "knn_classifier = KNC(n_neighbors = 3, metric = 'minkowski', p = 2)\n",
    "\n",
    "# Fitting Model\n",
    "knn_classifier.fit(x_train_sc, y_train)\n",
    "\n",
    "\n",
    "# Predict\n",
    "y_pred = knn_classifier.predict(x_test_sc)"
   ]
  },
  {
   "cell_type": "code",
   "execution_count": 108,
   "metadata": {
    "ExecuteTime": {
     "end_time": "2023-06-14T18:24:25.119430Z",
     "start_time": "2023-06-14T18:24:22.866703Z"
    },
    "scrolled": true
   },
   "outputs": [],
   "source": [
    "from sklearn.metrics import confusion_matrix, accuracy_score, classification_report, roc_curve, auc\n",
    "\n",
    "print(\"Validation accuracy of KNN:- \", accuracy_score (y_test, y_pred))\n",
    "print ()\n",
    "print(\"Classification report:- \\n\", classification_report(y_test, y_pred))\n",
    "\n",
    "#Confusion matrix \n",
    "plt.figure(figsize=(15, 11))\n",
    "plt.subplots_adjust(wspace = 0.3)\n",
    "plt.suptitle(\"KNN Performance after balancing the data\", color = 'r', weight = 'bold')\n",
    "plt.subplot (221)\n",
    "sns.heatmap(confusion_matrix(y_test,y_pred), annot=True, cmap=\"Set2\", fmt = \"d\", linewidths=3, cbar = False, \n",
    "            xticklabels=['nexo','exo'], yticklabels=['nexo', 'exo'], square = True)\n",
    "plt.xlabel(\"True Labels\", fontsize = 15, weight = 'bold', color = 'tab:pink')\n",
    "plt.ylabel(\"Predicited Labels\", fontsize = 15, weight = 'bold', color = 'tab:pink')\n",
    "plt.title(\"CONFUSION MATRIX\", fontsize=20, color = 'm')\n",
    "\n",
    "#ROC curve and Area under the curve plotting\n",
    "predicting_probabilites = knn_classifier.predict_proba(x_test_sc)[:,1]\n",
    "fpr, tpr, thresholds = roc_curve (y_test, predicting_probabilites)\n",
    "plt.subplot(222)\n",
    "plt.plot(fpr, tpr, label = (\"AUC :\", auc(fpr, tpr)),color = \"g\")\n",
    "plt.plot([1,0], [1,0], \"k--\")\n",
    "plt.xlabel('False Positive Rate')\n",
    "plt.ylabel('True Positive Rate')\n",
    "plt.title(\"ROC - CURVE & AREA UNDER CURVE\", fontsize=20, color = 'm')\n",
    "plt.show"
   ]
  },
  {
   "cell_type": "code",
   "execution_count": null,
   "metadata": {},
   "outputs": [],
   "source": []
  },
  {
   "cell_type": "code",
   "execution_count": 110,
   "metadata": {
    "ExecuteTime": {
     "end_time": "2023-06-14T18:25:22.564703Z",
     "start_time": "2023-06-14T18:24:59.900800Z"
    }
   },
   "outputs": [],
   "source": [
    "# Choosing K value with minimum error\n",
    "err_rate = []\n",
    "\n",
    "for K in range(1, 11):\n",
    "    knn_clsfr = KNC(n_neighbors = K)\n",
    "    knn_clsfr.fit(x_train_sc, y_train)\n",
    "    pred = knn_clsfr.predict(x_test_sc)\n",
    "    err_rate.append(np.mean(pred != y_test))\n",
    "    \n",
    "arg, val = err_rate.index(min(err_rate)), min(err_rate)\n",
    "\n",
    "plt.figure(figsize = (5,5))\n",
    "plt.plot(range(1,11), err_rate,'co--', markersize = 8)\n",
    "plt.plot(arg+1, val, marker = 'o', markersize = 8, markerfacecolor ='r', markeredgecolor = 'g')\n",
    "plt.title(\"Error rate wrt K values with minimum K marked\" )\n",
    "plt.ylabel(\"Error Rate\")\n",
    "plt.xlabel(\"K values\")\n",
    "plt.show()"
   ]
  },
  {
   "cell_type": "code",
   "execution_count": null,
   "metadata": {},
   "outputs": [],
   "source": []
  }
 ],
 "metadata": {
  "kernelspec": {
   "display_name": "Python 3 (ipykernel)",
   "language": "python",
   "name": "python3"
  },
  "language_info": {
   "codemirror_mode": {
    "name": "ipython",
    "version": 3
   },
   "file_extension": ".py",
   "mimetype": "text/x-python",
   "name": "python",
   "nbconvert_exporter": "python",
   "pygments_lexer": "ipython3",
   "version": "3.9.16"
  }
 },
 "nbformat": 4,
 "nbformat_minor": 2
}
